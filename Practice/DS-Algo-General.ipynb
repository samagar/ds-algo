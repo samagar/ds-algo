{
 "cells": [
  {
   "cell_type": "code",
   "execution_count": null,
   "metadata": {},
   "outputs": [],
   "source": [
    "### Graph ###"
   ]
  },
  {
   "cell_type": "code",
   "execution_count": 44,
   "metadata": {},
   "outputs": [
    {
     "name": "stdout",
     "output_type": "stream",
     "text": [
      "Path Exists\n"
     ]
    }
   ],
   "source": [
    "## Given 2 directed Graph's - Find if path exists in between them\n",
    "customDict = { \"a\" : [\"c\",\"d\", \"b\"],\n",
    "            \"b\" : [\"j\"],\n",
    "            \"c\" : [\"g\"],\n",
    "            \"d\" : [],\n",
    "            \"e\" : [\"f\"],\n",
    "            \"f\" : [\"i\"],\n",
    "            \"g\" : [\"d\", \"h\"],\n",
    "            \"h\" : [],\n",
    "            \"i\" : [],\n",
    "            \"j\" : []\n",
    "               }\n",
    "print(myGraphRoute(customDict,\"a\",\"b\"))\n",
    "\n",
    "def myGraphRoute(myDict,node1,node2):\n",
    "    visited=[node1]\n",
    "    queue =[node1]\n",
    "\n",
    "    while queue:\n",
    "        vertex = queue.pop(0)\n",
    "        for adjacentV in myDict[vertex]:\n",
    "            if adjacentV not in visited:\n",
    "                if adjacentV == node2:\n",
    "                    return \"Path Exists\"\n",
    "                else:\n",
    "                    queue.append(adjacentV)\n",
    "                    visited.append(adjacentV)\n",
    "                    \n",
    "    return \"Path DO NOT Exists\"                "
   ]
  },
  {
   "cell_type": "code",
   "execution_count": 45,
   "metadata": {},
   "outputs": [],
   "source": [
    "### Tree ###"
   ]
  },
  {
   "cell_type": "code",
   "execution_count": null,
   "metadata": {},
   "outputs": [],
   "source": [
    "# Given ascending sorted array of uniqueue intergers - develop algorithm of \n",
    "# binary search tree of minimum height.\n",
    "\n",
    "myArray = [1,2,3,4,5,6,7,8,9]\n",
    "\n"
   ]
  },
  {
   "cell_type": "code",
   "execution_count": null,
   "metadata": {},
   "outputs": [],
   "source": [
    "''' Reverse of Integer '''\n",
    "# Mathematical\n",
    "class solution:\n",
    "    def reverse(self, x: int) -> int:  # Accept X as integer\n",
    "        rev = 0  # Variable to store reverse string. Initialize 0.\n",
    "        sign = +1 # Variable to store sign. +1 positive.\n",
    "        if x<0: sign =-1 # Sign -1 negative.\n",
    "        \n",
    "        while x != 0:\n",
    "            # Get last digit of number. Add to interim reverse number.\n",
    "            # Multiply by 10 shifts 10 position to left to which newly found digit can be added.\n",
    "            rev = (rev*10) + abs(x)%10        \n",
    "            x = int(abs(x)/10)   # Remove last digit from number           \n",
    "            \n",
    "        # Check if reversed number is in 32 bit integer range\n",
    "        if rev not in range(-2**31, 2**31-1): \n",
    "            return 0\n",
    "        else:\n",
    "            return int(sign*rev) # Add approprite sign\n",
    "    \n",
    "    \n",
    "print(solution().reverse(1534236469))\n"
   ]
  },
  {
   "cell_type": "code",
   "execution_count": null,
   "metadata": {},
   "outputs": [],
   "source": [
    "''' Reverse of Integer '''\n",
    "# String function\n",
    "\n",
    "class Solution:\n",
    "    def reverse(self, x):  \n",
    "        if x > 0:  # Handle positive numbers  \n",
    "            a =  int(str(x)[::-1])  \n",
    "        if x <=0:  # Handle negative numbers  \n",
    "            a = -int(str(x*-1)[::-1])  \n",
    "\n",
    "        # handle 32 bit overflow   \n",
    "        if a not in range(-2**31, 2**31-1):  \n",
    "            return 0  \n",
    "        else:  \n",
    "            return a\n",
    "        \n",
    "print(Solution().reverse(-34843443))"
   ]
  },
  {
   "cell_type": "code",
   "execution_count": null,
   "metadata": {},
   "outputs": [
    {
     "name": "stdout",
     "output_type": "stream",
     "text": [
      "-\n",
      "True\n"
     ]
    }
   ],
   "source": [
    "def reverse(x):\n",
    "    Intx = []\n",
    "    charfnd = True\n",
    "    Negative = False\n",
    "    \n",
    "    if \"-\" in list(x.strip(\" \"))[0:1]: Negative = True\n",
    "    #print(list(x.strip(\" \")[0:1]))\n",
    "    #print(Negative)\n",
    "          \n",
    "    for y in list(x.strip(\" \")):\n",
    "        print(y)\n",
    "        \n",
    "       # if y.isspace() : break\n",
    "        \n",
    "        print(charfnd)\n",
    "        \n",
    "        while charfnd:\n",
    "            if y.isalpha(): \n",
    "                charfnd = False\n",
    "                print(charfnd)\n",
    "                return 0\n",
    "            \n",
    "        print(charfnd)       \n",
    "        \n",
    "        if y.isdigit: Intx.append(y)\n",
    "        \n",
    "    if Negative:\n",
    "        val = ''.join(Intx)\n",
    "        return val\n",
    "    else: \n",
    "        val = ''.join(Intx)\n",
    "        return val\n",
    "    \n",
    "x = '   -00324 how'\n",
    "print(reverse(x))"
   ]
  },
  {
   "cell_type": "code",
   "execution_count": null,
   "metadata": {},
   "outputs": [],
   "source": [
    "print(dir(list()))"
   ]
  },
  {
   "cell_type": "code",
   "execution_count": 1,
   "metadata": {},
   "outputs": [
    {
     "name": "stdout",
     "output_type": "stream",
     "text": [
      "sab\n"
     ]
    }
   ],
   "source": [
    "print(\"sab\")"
   ]
  },
  {
   "cell_type": "code",
   "execution_count": null,
   "metadata": {},
   "outputs": [],
   "source": [
    "# Sum of 2 list items = Target - return list of indexes"
   ]
  },
  {
   "cell_type": "code",
   "execution_count": 29,
   "metadata": {},
   "outputs": [
    {
     "name": "stdout",
     "output_type": "stream",
     "text": [
      "Available activities are: A:0-6,B:2-3,C:4-6,D:7-8,E:5-8,F:8-10,\n",
      "Selected activities are : B:2-3,C:4-6,D:7-8,F:8-10,\n"
     ]
    }
   ],
   "source": [
    "## Greedy Algorithm\n",
    "\n",
    "'''\n",
    "Given N activities with start and end times. Calculate maximum activities a person \n",
    "can perform in a day while working on one activity at a time\n",
    "\n",
    "Algo: Sort End times by ascending. Select first activity. Compare with start of other and print \n",
    "what is possible.\n",
    "\n",
    "Time: O(N)\n",
    "2 dimensional array will take nLogn. \n",
    "For loop will take O(N). rest o(1)\n",
    "\n",
    "Space: O(N) or 2N depending upon if you just want to print the results\n",
    "'''\n",
    "\n",
    "\n",
    "activities = [[\"A\", 0, 6],\n",
    "             [\"B\",2,3],\n",
    "             [\"C\",4,6],\n",
    "             [\"D\",7,8],\n",
    "             [\"E\",5,8],\n",
    "             [\"F\",8,10]]\n",
    "             \n",
    "def activitySelect(actlist):\n",
    "    selactlist = []\n",
    "    actlist.sort(key=lambda x: x[2])\n",
    "    firstAct = actlist[0][0]\n",
    "    endoffirst = actlist[0][2]\n",
    "    selactlist.append(actlist[0])\n",
    "\n",
    "    for j in range(1,len(actlist)):\n",
    "        if endoffirst <= actlist[j][1]:\n",
    "            selactlist.append(actlist[j])\n",
    "            endoffirst=actlist[j][2]\n",
    "    return selactlist\n",
    "            \n",
    "print(\"Available activities are:\",\"\".join(str(act[0]) + \":\" + str(act[1]) + \"-\" + str(act[2]) + \",\"for act in activities))\n",
    "print(\"Selected activities are :\",\"\".join(str(act[0]) + \":\" + str(act[1]) + \"-\" + str(act[2]) + \",\"for act in activitySelect(activities)))\n"
   ]
  },
  {
   "cell_type": "code",
   "execution_count": 45,
   "metadata": {},
   "outputs": [
    {
     "name": "stdout",
     "output_type": "stream",
     "text": [
      "target amount 935\n",
      "denominations are as below:\n",
      "500\n",
      "200\n",
      "200\n",
      "20\n",
      "10\n",
      "5\n"
     ]
    }
   ],
   "source": [
    "## Greedy Algorithm\n",
    "\n",
    "'''\n",
    "Given multiple denominations. Calculate minimum number needed to make a given amount.\n",
    "\n",
    "Algo: Find the max amount from list and substract from gieven amount and repeat process until you get 0. \n",
    "Print all denominations selected. Local solution > to complete global solution.\n",
    "\n",
    "Time:O(M) -- number of denominations\n",
    "\n",
    "Space: O(1) \n",
    "\n",
    "'''\n",
    "\n",
    "denominations = [1,5,10,20,50,100,200,500,1000]\n",
    "\n",
    "\n",
    "def findDenominations(denominations, targetAmount):\n",
    "    denominations.sort(reverse=True)\n",
    "    while True:\n",
    "        denom = denominations[0]\n",
    "        if denom <= targetAmount:\n",
    "            print(denom)\n",
    "            targetAmount = targetAmount - denom\n",
    "        else: denominations.pop(0)\n",
    "        if targetAmount == 0: break\n",
    "\n",
    "targetAmount = 935\n",
    "print(\"target amount\", targetAmount)\n",
    "print(\"denominations are as below:\")\n",
    "findDenominations(denominations, targetAmount)"
   ]
  },
  {
   "cell_type": "code",
   "execution_count": 175,
   "metadata": {},
   "outputs": [
    {
     "name": "stdout",
     "output_type": "stream",
     "text": [
      "Target Box Weight Limit 50 \n",
      "\n",
      "Available Items are:\n",
      " C weight:15 Value:50\n",
      "E weight:20 Value:150\n",
      "F weight:25 Value:200\n",
      "A weight:10 Value:100\n",
      "D weight:2 Value:20\n",
      "B weight:5 Value:120\n",
      "\n",
      "Items Uploaded:\n",
      " C weight:15 Value:50\n",
      "E weight:20 Value:150\n",
      "F(Fractional) weight:15 Value:120.0\n",
      "\n",
      "Total value 320.0\n"
     ]
    }
   ],
   "source": [
    "### Greedy Algorithm\n",
    "\n",
    "# Fractional Knapsack\n",
    "\n",
    "'''\n",
    "Given N number of items with weight and value - Try to fit in a Box of target Weight with max possible value\n",
    "'''\n",
    "\n",
    "\n",
    "def selectBoxItems(items, target):\n",
    "    items_uploaded = []\n",
    "    \n",
    "    # Find average value of an item & sort it descending average value\n",
    "    for key in items:\n",
    "        key.append(round(key[2]/key[1],2))\n",
    "\n",
    "    items.sort(key=lambda x: x[3])\n",
    "\n",
    "    print(\"Target Box Weight Limit\", target, \"\\n\")\n",
    "    print(\"Available Items are:\\n\",\"\".join(str(itm[0]) + \" weight:\" + \n",
    "                                              str(itm[1]) + \" Value:\" + \n",
    "                                              str(itm[2]) + \"\\n\" for itm in items))\n",
    "        \n",
    "\n",
    "    # Add Items until target weight is not complete. Remaining Item - add fractional        \n",
    "\n",
    "    for index in items:\n",
    "        weight = index[1]\n",
    "        \n",
    "        if target > weight:\n",
    "            items_uploaded.append(index)\n",
    "            target = target - weight\n",
    "        elif target != 0:\n",
    "            index[0] = index[0] + \"(Fractional)\"\n",
    "            index[1] = target\n",
    "            index[2] = target * index[3]\n",
    "            \n",
    "            items_uploaded.append(index)\n",
    "            target = 0\n",
    "            \n",
    "        elif target == 0: break\n",
    "    \n",
    "    print(\"Items Uploaded:\\n\",\"\".join(str(itm[0]) + \" weight:\" + \n",
    "                                              str(itm[1]) + \" Value:\" + \n",
    "                                              str(itm[2]) + \"\\n\" for itm in items_uploaded))\n",
    "    \n",
    "    print(\"Total value\", sum(i[2] for i in items_uploaded))\n",
    "\n",
    "    \n",
    "## Driver Code\n",
    "items = [[\"A\",10,100],\n",
    "         [\"B\",5,120],\n",
    "         [\"C\",15,50],\n",
    "         [\"D\",2,20],\n",
    "         [\"E\",20,150],\n",
    "         [\"F\",25,200]]\n",
    "\n",
    "target = 50\n",
    "selectBoxItems(items, target)\n"
   ]
  }
 ],
 "metadata": {
  "kernelspec": {
   "display_name": "Python 3.8.9 64-bit",
   "language": "python",
   "name": "python3"
  },
  "language_info": {
   "codemirror_mode": {
    "name": "ipython",
    "version": 3
   },
   "file_extension": ".py",
   "mimetype": "text/x-python",
   "name": "python",
   "nbconvert_exporter": "python",
   "pygments_lexer": "ipython3",
   "version": "3.-1.-1"
  },
  "vscode": {
   "interpreter": {
    "hash": "31f2aee4e71d21fbe5cf8b01ff0e069b9275f58929596ceb00d14d90e3e16cd6"
   }
  }
 },
 "nbformat": 4,
 "nbformat_minor": 2
}
